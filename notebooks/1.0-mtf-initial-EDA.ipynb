{
 "cells": [
  {
   "cell_type": "markdown",
   "metadata": {},
   "source": [
    "## Initial EDA"
   ]
  },
  {
   "cell_type": "code",
   "execution_count": 3,
   "metadata": {},
   "outputs": [],
   "source": [
    "import mailbox\n",
    "import json\n",
    "import re\n",
    "import email\n",
    "from time import asctime\n",
    "import os\n",
    "import sys\n",
    "from dateutil.parser import parse # pip install python_dateutil\n",
    "import pandas as pd"
   ]
  },
  {
   "cell_type": "code",
   "execution_count": 4,
   "metadata": {},
   "outputs": [],
   "source": [
    "path = '/Users/mouhamethtakhafaye/Desktop/behavox_assignment/src/data/01_raw.pkl' "
   ]
  },
  {
   "cell_type": "code",
   "execution_count": 5,
   "metadata": {},
   "outputs": [],
   "source": [
    "raw_df = pd.read_pickle(path)"
   ]
  },
  {
   "cell_type": "code",
   "execution_count": 13,
   "metadata": {},
   "outputs": [
    {
     "data": {
      "text/plain": [
       "Message-ID                   object\n",
       "Date                         object\n",
       "From                         object\n",
       "To                           object\n",
       "Subject                      object\n",
       "Mime-Version                 object\n",
       "Content-Type                 object\n",
       "Content-Transfer-Encoding    object\n",
       "X-From                       object\n",
       "X-To                         object\n",
       "X-cc                         object\n",
       "X-bcc                        object\n",
       "X-Folder                     object\n",
       "X-Origin                     object\n",
       "X-FileName                   object\n",
       "Body                         object\n",
       "Cc                           object\n",
       "Bcc                          object\n",
       "dtype: object"
      ]
     },
     "execution_count": 13,
     "metadata": {},
     "output_type": "execute_result"
    }
   ],
   "source": [
    "raw_df.dtypes"
   ]
  },
  {
   "cell_type": "code",
   "execution_count": 16,
   "metadata": {},
   "outputs": [],
   "source": [
    "raw_df.index = raw_df['Date'].apply(pd.to_datetime)\n",
    "\n",
    "# Remove non-essential columns\n",
    "cols_to_keep = ['From', 'To', 'Cc', 'Bcc', 'Subject', 'Body']\n",
    "raw_df = raw_df[cols_to_keep]"
   ]
  },
  {
   "cell_type": "code",
   "execution_count": 17,
   "metadata": {},
   "outputs": [
    {
     "data": {
      "text/html": [
       "<div>\n",
       "<style scoped>\n",
       "    .dataframe tbody tr th:only-of-type {\n",
       "        vertical-align: middle;\n",
       "    }\n",
       "\n",
       "    .dataframe tbody tr th {\n",
       "        vertical-align: top;\n",
       "    }\n",
       "\n",
       "    .dataframe thead th {\n",
       "        text-align: right;\n",
       "    }\n",
       "</style>\n",
       "<table border=\"1\" class=\"dataframe\">\n",
       "  <thead>\n",
       "    <tr style=\"text-align: right;\">\n",
       "      <th></th>\n",
       "      <th>From</th>\n",
       "      <th>To</th>\n",
       "      <th>Cc</th>\n",
       "      <th>Bcc</th>\n",
       "      <th>Subject</th>\n",
       "      <th>Body</th>\n",
       "    </tr>\n",
       "    <tr>\n",
       "      <th>Date</th>\n",
       "      <th></th>\n",
       "      <th></th>\n",
       "      <th></th>\n",
       "      <th></th>\n",
       "      <th></th>\n",
       "      <th></th>\n",
       "    </tr>\n",
       "  </thead>\n",
       "  <tbody>\n",
       "    <tr>\n",
       "      <th>2001-12-07 10:06:42-08:00</th>\n",
       "      <td>heather.dunton@enron.com</td>\n",
       "      <td>k..allen@enron.com</td>\n",
       "      <td>NaN</td>\n",
       "      <td>NaN</td>\n",
       "      <td>RE: West Position</td>\n",
       "      <td>Please let me know if you still need Curve Shi...</td>\n",
       "    </tr>\n",
       "    <tr>\n",
       "      <th>2001-12-30 22:49:42-08:00</th>\n",
       "      <td>anchordesk_daily@anchordesk.zdlists.com</td>\n",
       "      <td>pallen@enron.com</td>\n",
       "      <td>NaN</td>\n",
       "      <td>NaN</td>\n",
       "      <td>ANCHORDESK: Hope ahead: What I learned from 20...</td>\n",
       "      <td>_____________________DAVID COURSEY____________...</td>\n",
       "    </tr>\n",
       "    <tr>\n",
       "      <th>2001-12-30 23:42:30-08:00</th>\n",
       "      <td>subscriptions@intelligencepress.com</td>\n",
       "      <td>pallen@enron.com</td>\n",
       "      <td>NaN</td>\n",
       "      <td>NaN</td>\n",
       "      <td>NGI Publications - Monday, December 31st 2001</td>\n",
       "      <td>Dear phillip,   This e-mail is automated notif...</td>\n",
       "    </tr>\n",
       "    <tr>\n",
       "      <th>2001-12-31 02:24:51-08:00</th>\n",
       "      <td>prizemachine@feedback.iwon.com</td>\n",
       "      <td>pallen@enron.com</td>\n",
       "      <td>NaN</td>\n",
       "      <td>NaN</td>\n",
       "      <td>Click. Spin. Chances to Win up to $10,000!</td>\n",
       "      <td>[IMAGE] [IMAGE]   [IMAGE]   [IMAGE] $ 2,500 [I...</td>\n",
       "    </tr>\n",
       "    <tr>\n",
       "      <th>2001-12-31 10:53:43-08:00</th>\n",
       "      <td>louise.kitchen@enron.com</td>\n",
       "      <td>wes.colwell@enron.com, georgeanne.hodges@enron...</td>\n",
       "      <td>john.lavorato@enron.com</td>\n",
       "      <td>john.lavorato@enron.com</td>\n",
       "      <td>NETCO</td>\n",
       "      <td>The New Year has arrived and we really to fina...</td>\n",
       "    </tr>\n",
       "  </tbody>\n",
       "</table>\n",
       "</div>"
      ],
      "text/plain": [
       "                                                              From  \\\n",
       "Date                                                                 \n",
       "2001-12-07 10:06:42-08:00                 heather.dunton@enron.com   \n",
       "2001-12-30 22:49:42-08:00  anchordesk_daily@anchordesk.zdlists.com   \n",
       "2001-12-30 23:42:30-08:00      subscriptions@intelligencepress.com   \n",
       "2001-12-31 02:24:51-08:00           prizemachine@feedback.iwon.com   \n",
       "2001-12-31 10:53:43-08:00                 louise.kitchen@enron.com   \n",
       "\n",
       "                                                                          To  \\\n",
       "Date                                                                           \n",
       "2001-12-07 10:06:42-08:00                                 k..allen@enron.com   \n",
       "2001-12-30 22:49:42-08:00                                   pallen@enron.com   \n",
       "2001-12-30 23:42:30-08:00                                   pallen@enron.com   \n",
       "2001-12-31 02:24:51-08:00                                   pallen@enron.com   \n",
       "2001-12-31 10:53:43-08:00  wes.colwell@enron.com, georgeanne.hodges@enron...   \n",
       "\n",
       "                                                Cc                      Bcc  \\\n",
       "Date                                                                          \n",
       "2001-12-07 10:06:42-08:00                      NaN                      NaN   \n",
       "2001-12-30 22:49:42-08:00                      NaN                      NaN   \n",
       "2001-12-30 23:42:30-08:00                      NaN                      NaN   \n",
       "2001-12-31 02:24:51-08:00                      NaN                      NaN   \n",
       "2001-12-31 10:53:43-08:00  john.lavorato@enron.com  john.lavorato@enron.com   \n",
       "\n",
       "                                                                     Subject  \\\n",
       "Date                                                                           \n",
       "2001-12-07 10:06:42-08:00                                  RE: West Position   \n",
       "2001-12-30 22:49:42-08:00  ANCHORDESK: Hope ahead: What I learned from 20...   \n",
       "2001-12-30 23:42:30-08:00      NGI Publications - Monday, December 31st 2001   \n",
       "2001-12-31 02:24:51-08:00         Click. Spin. Chances to Win up to $10,000!   \n",
       "2001-12-31 10:53:43-08:00                                              NETCO   \n",
       "\n",
       "                                                                        Body  \n",
       "Date                                                                          \n",
       "2001-12-07 10:06:42-08:00  Please let me know if you still need Curve Shi...  \n",
       "2001-12-30 22:49:42-08:00  _____________________DAVID COURSEY____________...  \n",
       "2001-12-30 23:42:30-08:00  Dear phillip,   This e-mail is automated notif...  \n",
       "2001-12-31 02:24:51-08:00  [IMAGE] [IMAGE]   [IMAGE]   [IMAGE] $ 2,500 [I...  \n",
       "2001-12-31 10:53:43-08:00  The New Year has arrived and we really to fina...  "
      ]
     },
     "execution_count": 17,
     "metadata": {},
     "output_type": "execute_result"
    }
   ],
   "source": [
    "raw_df.head()"
   ]
  },
  {
   "cell_type": "markdown",
   "metadata": {},
   "source": [
    "### Describe"
   ]
  },
  {
   "cell_type": "code",
   "execution_count": 19,
   "metadata": {},
   "outputs": [
    {
     "data": {
      "text/html": [
       "<div>\n",
       "<style scoped>\n",
       "    .dataframe tbody tr th:only-of-type {\n",
       "        vertical-align: middle;\n",
       "    }\n",
       "\n",
       "    .dataframe tbody tr th {\n",
       "        vertical-align: top;\n",
       "    }\n",
       "\n",
       "    .dataframe thead th {\n",
       "        text-align: right;\n",
       "    }\n",
       "</style>\n",
       "<table border=\"1\" class=\"dataframe\">\n",
       "  <thead>\n",
       "    <tr style=\"text-align: right;\">\n",
       "      <th></th>\n",
       "      <th>From</th>\n",
       "      <th>To</th>\n",
       "      <th>Cc</th>\n",
       "      <th>Bcc</th>\n",
       "      <th>Subject</th>\n",
       "      <th>Body</th>\n",
       "    </tr>\n",
       "  </thead>\n",
       "  <tbody>\n",
       "    <tr>\n",
       "      <th>count</th>\n",
       "      <td>66</td>\n",
       "      <td>61</td>\n",
       "      <td>15</td>\n",
       "      <td>15</td>\n",
       "      <td>66</td>\n",
       "      <td>68</td>\n",
       "    </tr>\n",
       "    <tr>\n",
       "      <th>unique</th>\n",
       "      <td>43</td>\n",
       "      <td>17</td>\n",
       "      <td>10</td>\n",
       "      <td>10</td>\n",
       "      <td>57</td>\n",
       "      <td>68</td>\n",
       "    </tr>\n",
       "    <tr>\n",
       "      <th>top</th>\n",
       "      <td>arsystem@mailman.enron.com</td>\n",
       "      <td>pallen@enron.com</td>\n",
       "      <td>k..allen@enron.com</td>\n",
       "      <td>k..allen@enron.com</td>\n",
       "      <td>Your Approval is Overdue: Access Request for m...</td>\n",
       "      <td>Phillip;  Could you please e-mail me the draw ...</td>\n",
       "    </tr>\n",
       "    <tr>\n",
       "      <th>freq</th>\n",
       "      <td>5</td>\n",
       "      <td>22</td>\n",
       "      <td>3</td>\n",
       "      <td>3</td>\n",
       "      <td>5</td>\n",
       "      <td>1</td>\n",
       "    </tr>\n",
       "  </tbody>\n",
       "</table>\n",
       "</div>"
      ],
      "text/plain": [
       "                              From                To                  Cc  \\\n",
       "count                           66                61                  15   \n",
       "unique                          43                17                  10   \n",
       "top     arsystem@mailman.enron.com  pallen@enron.com  k..allen@enron.com   \n",
       "freq                             5                22                   3   \n",
       "\n",
       "                       Bcc                                            Subject  \\\n",
       "count                   15                                                 66   \n",
       "unique                  10                                                 57   \n",
       "top     k..allen@enron.com  Your Approval is Overdue: Access Request for m...   \n",
       "freq                     3                                                  5   \n",
       "\n",
       "                                                     Body  \n",
       "count                                                  68  \n",
       "unique                                                 68  \n",
       "top     Phillip;  Could you please e-mail me the draw ...  \n",
       "freq                                                    1  "
      ]
     },
     "execution_count": 19,
     "metadata": {},
     "output_type": "execute_result"
    }
   ],
   "source": [
    "raw_df.describe()"
   ]
  },
  {
   "cell_type": "markdown",
   "metadata": {},
   "source": [
    "### Investigate email volume by month"
   ]
  },
  {
   "cell_type": "code",
   "execution_count": null,
   "metadata": {},
   "outputs": [],
   "source": []
  }
 ],
 "metadata": {
  "kernelspec": {
   "display_name": "Python 3",
   "language": "python",
   "name": "python3"
  },
  "language_info": {
   "codemirror_mode": {
    "name": "ipython",
    "version": 3
   },
   "file_extension": ".py",
   "mimetype": "text/x-python",
   "name": "python",
   "nbconvert_exporter": "python",
   "pygments_lexer": "ipython3",
   "version": "3.7.4"
  }
 },
 "nbformat": 4,
 "nbformat_minor": 2
}
