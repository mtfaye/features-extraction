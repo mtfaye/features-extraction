{
 "cells": [
  {
   "cell_type": "code",
   "execution_count": 8,
   "metadata": {},
   "outputs": [
    {
     "ename": "ModuleNotFoundError",
     "evalue": "No module named 'beautifulsoup4'",
     "output_type": "error",
     "traceback": [
      "\u001b[0;31m---------------------------------------------------------------------------\u001b[0m",
      "\u001b[0;31mModuleNotFoundError\u001b[0m                       Traceback (most recent call last)",
      "\u001b[0;32m<ipython-input-8-db60f2a76708>\u001b[0m in \u001b[0;36m<module>\u001b[0;34m\u001b[0m\n\u001b[1;32m      5\u001b[0m \u001b[0;32mimport\u001b[0m \u001b[0mjson\u001b[0m\u001b[0;34m\u001b[0m\u001b[0;34m\u001b[0m\u001b[0m\n\u001b[1;32m      6\u001b[0m \u001b[0;32mimport\u001b[0m \u001b[0mtime\u001b[0m\u001b[0;34m\u001b[0m\u001b[0;34m\u001b[0m\u001b[0m\n\u001b[0;32m----> 7\u001b[0;31m \u001b[0;32mfrom\u001b[0m \u001b[0mbeautifulsoup4\u001b[0m \u001b[0;32mimport\u001b[0m \u001b[0mbeautifulsoup4\u001b[0m\u001b[0;34m\u001b[0m\u001b[0;34m\u001b[0m\u001b[0m\n\u001b[0m\u001b[1;32m      8\u001b[0m \u001b[0;32mfrom\u001b[0m \u001b[0mdateutil\u001b[0m\u001b[0;34m.\u001b[0m\u001b[0mparser\u001b[0m \u001b[0;32mimport\u001b[0m \u001b[0mparse\u001b[0m\u001b[0;34m\u001b[0m\u001b[0;34m\u001b[0m\u001b[0m\n\u001b[1;32m      9\u001b[0m \u001b[0;34m\u001b[0m\u001b[0m\n",
      "\u001b[0;31mModuleNotFoundError\u001b[0m: No module named 'beautifulsoup4'"
     ]
    }
   ],
   "source": [
    "import sys\n",
    "import mailbox\n",
    "import email\n",
    "import quopri\n",
    "import json\n",
    "import time\n",
    "from beautifulsoup4 import beautifulsoup4\n",
    "from dateutil.parser import parse\n",
    "\n",
    "MBOX = '/Users/mouhamethtakhafaye/Desktop/behavox_assignment/data/immutable_input_data.mbox'\n",
    "OUT_FILE = '/Users/mouhamethtakhafaye/Desktop/behavox_assignment/data/immutable_input_data.mbox.json'\n",
    "\n",
    "def cleanContent(msg):\n",
    "\n",
    "    # Decode message from \"quoted printable\" format\n",
    "    msg = quopri.decodestring(msg)\n",
    "        \n",
    "    # Strip out HTML tags, if any are present.\n",
    "    # Bail on unknown encodings if errors happen in BeautifulSoup.\n",
    "    try:\n",
    "        soup = BeautifulSoup(msg)\n",
    "    except:\n",
    "        return ''\n",
    "    return ''.join(soup.findAll(text=True))\n",
    "\n",
    "# There's a lot of data to process, and the Pythonic way to do it is with a \n",
    "# generator. See http://wiki.python.org/moin/Generators.\n",
    "# Using a generator requires a trivial encoder to be passed to json for object \n",
    "# serialization.\n",
    "\n",
    "class Encoder(json.JSONEncoder):\n",
    "    def default(self, o): return  list(o)\n",
    "\n",
    "# The generator itself...\n",
    "def gen_json_msgs(mb):\n",
    "    while 1:\n",
    "        msg = mb.next()\n",
    "        if msg is None:\n",
    "            break\n",
    "        yield jsonifyMessage(msg)\n",
    " \n",
    "def jsonifyMessage(msg):\n",
    "    json_msg = {'parts': []}\n",
    "    for (k, v) in msg.items():\n",
    "        json_msg[k] = v.decode('utf-8', 'ignore')\n",
    "\n",
    "    # The To, Cc, and Bcc fields, if present, could have multiple items.\n",
    "    # Note that not all of these fields are necessarily defined.\n",
    "\n",
    "    for k in ['To', 'Cc', 'Bcc']:\n",
    "        if not json_msg.get(k):\n",
    "            continue\n",
    "        json_msg[k] = json_msg[k].replace('\\n', '').replace('\\t', '').replace('\\r', '')\\\n",
    "                                 .replace(' ', '').decode('utf-8', 'ignore').split(',')\n",
    "\n",
    "    for part in msg.walk():\n",
    "        json_part = {}\n",
    "        if part.get_content_maintype() == 'multipart':\n",
    "            continue\n",
    "            \n",
    "        json_part['contentType'] = part.get_content_type()\n",
    "        content = part.get_payload(decode=False).decode('utf-8', 'ignore')\n",
    "        json_part['content'] = cleanContent(content)\n",
    "           \n",
    "        json_msg['parts'].append(json_part)\n",
    "        \n",
    "    # Finally, convert date from asctime to milliseconds since epoch using the\n",
    "    # $date descriptor so it imports \"natively\" as an ISODate object in MongoDB\n",
    "    then = parse(json_msg['Date'])\n",
    "    millis = int(time.mktime(then.timetuple())*1000 + then.microsecond/1000)\n",
    "    json_msg['Date'] = {'$date' : millis}\n",
    "\n",
    "    return json_msg\n",
    "\n",
    "mbox = mailbox.UnixMailbox(open(MBOX, 'rb'), email.message_from_file)\n",
    "\n",
    "# Write each message out as a JSON object on a separate line\n",
    "# for easy import into MongoDB via mongoimport\n",
    "\n",
    "f = open(OUT_FILE, 'w')\n",
    "for msg in gen_json_msgs(mbox):\n",
    "    if msg != None:\n",
    "        f.write(json.dumps(msg, cls=Encoder) + '\\n')\n",
    "f.close()"
   ]
  },
  {
   "cell_type": "code",
   "execution_count": null,
   "metadata": {},
   "outputs": [],
   "source": [
    "beautifulsoup4"
   ]
  }
 ],
 "metadata": {
  "kernelspec": {
   "display_name": "Python 3",
   "language": "python",
   "name": "python3"
  },
  "language_info": {
   "codemirror_mode": {
    "name": "ipython",
    "version": 3
   },
   "file_extension": ".py",
   "mimetype": "text/x-python",
   "name": "python",
   "nbconvert_exporter": "python",
   "pygments_lexer": "ipython3",
   "version": "3.7.4"
  }
 },
 "nbformat": 4,
 "nbformat_minor": 2
}
