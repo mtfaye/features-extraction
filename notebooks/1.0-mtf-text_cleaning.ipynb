{
 "cells": [
  {
   "cell_type": "markdown",
   "metadata": {},
   "source": [
    "# Data Cleaning"
   ]
  },
  {
   "cell_type": "markdown",
   "metadata": {},
   "source": [
    "### Goal of this notebook:  \n",
    "Clean and organize the text data that we scrapped and make 2 files format:\n",
    "- Corpus: a collection of text\n",
    "- Document-Term Matrix: word counts in matrix format "
   ]
  },
  {
   "cell_type": "code",
   "execution_count": 1,
   "metadata": {},
   "outputs": [],
   "source": [
    "# dependencies\n",
    "import re\n",
    "import json\n",
    "import string\n",
    "import nltk\n",
    "import numpy as np\n",
    "import pickle\n",
    "import pandas as pd\n",
    "from nltk.corpus import stopwords\n",
    "from nltk.stem import WordNetLemmatizer\n",
    "# nltk.download()    uncomment this line when running the cell for the first time \n",
    "pd.set_option('max_colwidth',200)\n",
    "\n",
    "from sklearn.feature_extraction.text import CountVectorizer"
   ]
  },
  {
   "cell_type": "markdown",
   "metadata": {},
   "source": [
    "## 1. Load texts"
   ]
  },
  {
   "cell_type": "code",
   "execution_count": 2,
   "metadata": {},
   "outputs": [],
   "source": [
    "# Put here the path of the json file saved from src/data/data_processing.py\n",
    "data_folder_path = '/Users/mouhamethtakhafaye/Desktop/behavox_assignment/data/raw.json'\n",
    "\n",
    "# Path for outfiles\n",
    "outfile_path = '/Users/mouhamethtakhafaye/Desktop/behavox_assignment/data/'"
   ]
  },
  {
   "cell_type": "code",
   "execution_count": 3,
   "metadata": {},
   "outputs": [],
   "source": [
    "load_ = []\n",
    "with open(data_folder_path) as f:\n",
    "    for line in f:\n",
    "        load_.append(json.loads(line))\n",
    "\n",
    "df = pd.DataFrame.from_dict(load_, orient='columns').transpose()\n",
    "df.columns = ['Messages']"
   ]
  },
  {
   "cell_type": "code",
   "execution_count": 4,
   "metadata": {},
   "outputs": [
    {
     "data": {
      "text/html": [
       "<div>\n",
       "<style scoped>\n",
       "    .dataframe tbody tr th:only-of-type {\n",
       "        vertical-align: middle;\n",
       "    }\n",
       "\n",
       "    .dataframe tbody tr th {\n",
       "        vertical-align: top;\n",
       "    }\n",
       "\n",
       "    .dataframe thead th {\n",
       "        text-align: right;\n",
       "    }\n",
       "</style>\n",
       "<table border=\"1\" class=\"dataframe\">\n",
       "  <thead>\n",
       "    <tr style=\"text-align: right;\">\n",
       "      <th></th>\n",
       "      <th>Messages</th>\n",
       "    </tr>\n",
       "  </thead>\n",
       "  <tbody>\n",
       "    <tr>\n",
       "      <th>SMS</th>\n",
       "      <td>\\n                    Sms #2\\n                 \\n                    Hi Ina! How are you?\\n                 \\n                    thx i getting better\\n                 \\n                    What ...</td>\n",
       "    </tr>\n",
       "    <tr>\n",
       "      <th>CHATS</th>\n",
       "      <td>\\n                Hello?\\n             \\n                Morning\\n             \\n                Yeah, how are you?\\n             \\n                I'm pretty good sir. Very Good. We're just not, ...</td>\n",
       "    </tr>\n",
       "    <tr>\n",
       "      <th>EMAILS</th>\n",
       "      <td>Please let me know if you still need Curve Shift.  Thanks, Heather  -----Original Message----- From:  Allen, Phillip K.   Sent: Friday, December 07, 2001 5:14 AM To: Dunton, Heather Subject: RE: W...</td>\n",
       "    </tr>\n",
       "  </tbody>\n",
       "</table>\n",
       "</div>"
      ],
      "text/plain": [
       "                                                                                                                                                                                                       Messages\n",
       "SMS     \\n                    Sms #2\\n                 \\n                    Hi Ina! How are you?\\n                 \\n                    thx i getting better\\n                 \\n                    What ...\n",
       "CHATS   \\n                Hello?\\n             \\n                Morning\\n             \\n                Yeah, how are you?\\n             \\n                I'm pretty good sir. Very Good. We're just not, ...\n",
       "EMAILS  Please let me know if you still need Curve Shift.  Thanks, Heather  -----Original Message----- From:  Allen, Phillip K.   Sent: Friday, December 07, 2001 5:14 AM To: Dunton, Heather Subject: RE: W..."
      ]
     },
     "execution_count": 4,
     "metadata": {},
     "output_type": "execute_result"
    }
   ],
   "source": [
    "# See the collected text from sms and chats emails folders\n",
    "df"
   ]
  },
  {
   "cell_type": "markdown",
   "metadata": {},
   "source": [
    "## 2. Quick overview of each channel of communications"
   ]
  },
  {
   "cell_type": "markdown",
   "metadata": {},
   "source": [
    "Remove comments to see raw texts"
   ]
  },
  {
   "cell_type": "code",
   "execution_count": 5,
   "metadata": {},
   "outputs": [],
   "source": [
    "#df.Messages.loc['CHATS']"
   ]
  },
  {
   "cell_type": "code",
   "execution_count": 6,
   "metadata": {},
   "outputs": [],
   "source": [
    "#df.Messages.loc['SMS']"
   ]
  },
  {
   "cell_type": "code",
   "execution_count": 7,
   "metadata": {
    "scrolled": false
   },
   "outputs": [],
   "source": [
    "#df.Messages.loc['EMAILS']"
   ]
  },
  {
   "cell_type": "markdown",
   "metadata": {},
   "source": [
    "## 3. Apply a first round of text cleaning techniques"
   ]
  },
  {
   "cell_type": "code",
   "execution_count": 8,
   "metadata": {},
   "outputs": [],
   "source": [
    "# Make text lowercase, remove text in square brackets, remove punctuation and remove words containing numbers\n",
    "def clean_text_round1(text):\n",
    "    \n",
    "    text = text.lower()\n",
    "    text = re.sub('\\[.*?\\]', '', text)\n",
    "    text = re.sub('[%s]' % re.escape(string.punctuation), '', text)\n",
    "    text = re.sub('\\w*\\d\\w*', '', text)\n",
    "    return text\n",
    "\n",
    "# Remove square brackets\n",
    "round1 = lambda x: clean_text_round1(x)"
   ]
  },
  {
   "cell_type": "code",
   "execution_count": 9,
   "metadata": {
    "scrolled": false
   },
   "outputs": [],
   "source": [
    "# Let's take a look at the updated text\n",
    "data_clean = pd.DataFrame(df.Messages.apply(round1))\n",
    "#data_clean.Messages.loc['EMAILS']  # to see text for chats or sms, replace EMAILS by CHATS or SMS"
   ]
  },
  {
   "cell_type": "markdown",
   "metadata": {},
   "source": [
    "## 4. Apply a second round of cleaning"
   ]
  },
  {
   "cell_type": "code",
   "execution_count": 10,
   "metadata": {},
   "outputs": [],
   "source": [
    "# Get rid of some additional quotation marks and newline text that was missed the first time around.\n",
    "def clean_text_round2(text):\n",
    "    \n",
    "    text = re.sub('[‘’“”…]', '', text)\n",
    "    text = re.sub('\\n', '', text)\n",
    "    return text\n",
    "\n",
    "round2 = lambda x: clean_text_round2(x)"
   ]
  },
  {
   "cell_type": "code",
   "execution_count": 11,
   "metadata": {
    "scrolled": false
   },
   "outputs": [],
   "source": [
    "# Let's take a look at the updated text\n",
    "data_clean = pd.DataFrame(data_clean.Messages.apply(round2))"
   ]
  },
  {
   "cell_type": "markdown",
   "metadata": {},
   "source": [
    "## 5. Stop words removal"
   ]
  },
  {
   "cell_type": "code",
   "execution_count": 12,
   "metadata": {},
   "outputs": [
    {
     "name": "stderr",
     "output_type": "stream",
     "text": [
      "[nltk_data] Downloading package stopwords to\n",
      "[nltk_data]     /Users/mouhamethtakhafaye/nltk_data...\n",
      "[nltk_data]   Package stopwords is already up-to-date!\n"
     ]
    },
    {
     "data": {
      "text/plain": [
       "True"
      ]
     },
     "execution_count": 12,
     "metadata": {},
     "output_type": "execute_result"
    }
   ],
   "source": [
    "# Downloading the stop words list\n",
    "nltk.download('stopwords')"
   ]
  },
  {
   "cell_type": "code",
   "execution_count": 13,
   "metadata": {},
   "outputs": [
    {
     "data": {
      "text/plain": [
       "['arabic',\n",
       " 'azerbaijani',\n",
       " 'danish',\n",
       " 'dutch',\n",
       " 'english',\n",
       " 'finnish',\n",
       " 'french',\n",
       " 'german',\n",
       " 'greek',\n",
       " 'hungarian',\n",
       " 'indonesian',\n",
       " 'italian',\n",
       " 'kazakh',\n",
       " 'nepali',\n",
       " 'norwegian',\n",
       " 'portuguese',\n",
       " 'romanian',\n",
       " 'russian',\n",
       " 'slovene',\n",
       " 'spanish',\n",
       " 'swedish',\n",
       " 'tajik',\n",
       " 'turkish']"
      ]
     },
     "execution_count": 13,
     "metadata": {},
     "output_type": "execute_result"
    }
   ],
   "source": [
    "# langages supported by nltk\n",
    "stopwords.fileids()"
   ]
  },
  {
   "cell_type": "markdown",
   "metadata": {},
   "source": [
    "We see that the chinese and hindu langage are not supported. We will try to remove them from our dataset. "
   ]
  },
  {
   "cell_type": "code",
   "execution_count": 14,
   "metadata": {},
   "outputs": [],
   "source": [
    "# Loading the stop words\n",
    "stop_words = list(stopwords.words())"
   ]
  },
  {
   "cell_type": "code",
   "execution_count": 15,
   "metadata": {},
   "outputs": [],
   "source": [
    "for stop_word in stop_words:\n",
    "\n",
    "    regex_stopword = r\"\\b\" + stop_word + r\"\\b\"\n",
    "    data_clean['Messages'] = data_clean['Messages'].str.replace(regex_stopword, '')"
   ]
  },
  {
   "cell_type": "markdown",
   "metadata": {},
   "source": [
    "### Remove chinese and hindu characters since they are not supported by ntlk "
   ]
  },
  {
   "cell_type": "code",
   "execution_count": 16,
   "metadata": {},
   "outputs": [],
   "source": [
    "def clean_text_round3(text):\n",
    "    # Manually copied as much as possible the chinese and hindu characters\n",
    "    \n",
    "    #(I think it is hindu characters, Im not sure as I dont know much about the hindu language).\n",
    "    \n",
    "    text = re.sub('是东亚地区统一的一党主权国家门特别行政区\t照总面积计算現在裤脚許多人需要同意還沒有重庆鞋子全部打湿完了\\\n",
    "                  我會等待確認裤脚鞋子全部打湿完了こんにちはこれは日本語の例です', '', text)\n",
    "    return text\n",
    "\n",
    "round3 = lambda x: clean_text_round3(x)"
   ]
  },
  {
   "cell_type": "code",
   "execution_count": 17,
   "metadata": {},
   "outputs": [
    {
     "data": {
      "text/html": [
       "<div>\n",
       "<style scoped>\n",
       "    .dataframe tbody tr th:only-of-type {\n",
       "        vertical-align: middle;\n",
       "    }\n",
       "\n",
       "    .dataframe tbody tr th {\n",
       "        vertical-align: top;\n",
       "    }\n",
       "\n",
       "    .dataframe thead th {\n",
       "        text-align: right;\n",
       "    }\n",
       "</style>\n",
       "<table border=\"1\" class=\"dataframe\">\n",
       "  <thead>\n",
       "    <tr style=\"text-align: right;\">\n",
       "      <th></th>\n",
       "      <th>Messages</th>\n",
       "    </tr>\n",
       "  </thead>\n",
       "  <tbody>\n",
       "    <tr>\n",
       "      <th>SMS</th>\n",
       "      <td>sms                                      hi ina                                        thx  getting better                                       hell happened damn call  asap  ...</td>\n",
       "    </tr>\n",
       "    <tr>\n",
       "      <th>CHATS</th>\n",
       "      <td>hello                             morning                             yeah                                 pretty good sir  good      allowed    conversations  chat                ...</td>\n",
       "    </tr>\n",
       "    <tr>\n",
       "      <th>EMAILS</th>\n",
       "      <td>please let  know   still need curve shift  thanks heather  original message    phillip    sent friday december      dunton heather subject  west position  heather    attach  file   email   origina...</td>\n",
       "    </tr>\n",
       "  </tbody>\n",
       "</table>\n",
       "</div>"
      ],
      "text/plain": [
       "                                                                                                                                                                                                       Messages\n",
       "SMS                         sms                                      hi ina                                        thx  getting better                                       hell happened damn call  asap  ...\n",
       "CHATS                   hello                             morning                             yeah                                 pretty good sir  good      allowed    conversations  chat                ...\n",
       "EMAILS  please let  know   still need curve shift  thanks heather  original message    phillip    sent friday december      dunton heather subject  west position  heather    attach  file   email   origina..."
      ]
     },
     "execution_count": 17,
     "metadata": {},
     "output_type": "execute_result"
    }
   ],
   "source": [
    "data_clean = pd.DataFrame(data_clean.Messages.apply(round3))\n",
    "data_clean"
   ]
  },
  {
   "cell_type": "markdown",
   "metadata": {},
   "source": [
    " ### NOTE:\n",
    "This data cleaning aka text pre-processing step could go on for a while, but we are going to stop for now. After going through some analysis if we see that the results don't make sense or could be improved, we will come back and make more edits such as stemming and lemmatization."
   ]
  },
  {
   "cell_type": "code",
   "execution_count": 18,
   "metadata": {
    "scrolled": false
   },
   "outputs": [
    {
     "data": {
      "text/plain": [
       "'please let  know   still need curve shift  thanks heather  original message    phillip    sent friday december      dunton heather subject  west position  heather    attach  file   email   original message   dunton heather   sent wednesday december    pm   phillip  belden tim subject fw west position  attached   delta position          original message    phillip    sent wednesday december      dunton heather subject  west position  heather    exactly   need  would  possible  add  prior day     dates    pivot table   order  validate  curve shift   dates    need  prior days ending positions  thank   phillip    original message   dunton heather   sent tuesday december    pm  belden tim  phillip  cc driscoll michael  subject west position   attached   delta position            file westdeltaposxls    let  know     questions   heather david coursey  hope ahead   learned   tragedies       years go  sucked  adversity teaches          us  important lessons  prosperity            bet      upcoming            prove    educationaland           ways  matter heres   learned           year   saw technologyand  worldchange           good        news analysis  sylvia carr          whats hps fate  x gains converts      peertopeer isnt   napster     anymore  technology  taking hold      businesses universities       armed forces   used  find      cure  cancer   facilitate battlefield     communication   anything      cant         expert advice   wayne rash    spy games  someone leaking  company secrets     catching spies  probably pretty far            list   priorities    knew           damage even  unsavory employee could            might think twice wayne rash offers           cautionary                 lee schlesinger     murky crystal ball  tech predictions         draws   close lee takes  peek            notsoclear future    seven          predictions    tech sector           bring   coming yearfrom  instantmessaging          mess   new wireless empire                preston gralla    ring   new year   timely downloads       make sure youre perfectly  sync            rolls around  says preston          spend  minute   three utilitiestheyll          get  organized   time                  crucial clicks make sure  see  features  zdnet today    web   downward spiral     publish  polishat home    making sense  wireless standards      elsewhere  zdnet  thrill  favorite techie  perfect presents  zdnet shopper   ten tips  help  attain crm roi   get  lowdown    different wireless lan standards   editors top  check   best gifts money  buy   find   standardizing   tech updates special report        anchordesk comes   free  charge   service  zdnet   companion web site anchordesk includes full details   stories  see  plus latebreaking news links  indepth information  much  visit httpwwwanchordeskcom   subscribe unsubscribe  make changes   subscription please go       sending  news alert   address pallenenroncom please make sure  provide  address    email messages  us  thanks  copyright   zd inc zdnet   registered service mark  zd inc zdnet logo   service mark  zd inc     dear phillip    email  automated notification   availability   current natural gas intelligence newsletters please use  username  pallen   password  access         ngis daily gas price index         ngis weekly gas price index         natural gas intelligence  weekly newsletter  httpintelligencepresscomsubscribersindexhtml     forgotten  password please visit   httpintelligencepresscompasswordhtml    send       would like  stop receiving email notifications   publications  available please reply   message  remove email   subject line  thank    subscription   information   intelligence press products  services including maps  glossaries visit  web site  httpintelligencepresscom  call tollfree     rights reserved   intelligence press inc                       dear  phillip  youve got  spin  win play      spin  iwon prize machine   chances  win    progressive jackpot  keeps growing   someone wins   whats  jackpot        click   find         iwon team                phillip click   play                   forgot  member      forgot  iwon password  click      received  email    registered  iwon  agreed   receive email  us  unsubscribe     email categories  please click  please note changes may     week  process   youre  signed    need       update  profile  click     purchase necessary  enter void  prohibited must  us resident aged     enter see site  official rules  new year  arrived   really  finalize  lot   work  regards  moving  netco  obviously  still     deal   deadline  approaching  preparations need   finalized   main areas  focus    next week     restartintegration plans due  jan       forwarded  louise    plans need   detailed  show clear detailed timelines  detailed responsibilities  getting us   running  soon  possible     current restart date  january    may  pushed forward  january     budget due jan          forwarded  faith killen   first year budget  include  start  costs      amortized iii seating plans        tammy shepperd  coordinate   need  start  planning process  seating     living  floors      enron south building    asked tammy shepperd  commence  seating plan   would look  start  moves  soon  possible    large number occuring around january  iv due diligence   continue  process  two new companies  week wednesday  thursday andy zipper  taking  lead   company arriving  wednesday please help    requirements   would ask   john    notified   changes   netco personnel list   timely fashion    list  maintained   continual basis  please forward  alterations  jeanie slone   responsibility   master list  communication   believe   new year combined   internal communication issues may   good time  review     say  netco    policies     asking david oxley  coordinate         know  lot   believe   need   communicate    retention programme  place   estate  may   good idea    need  make sure   lose   people  possible     unavailable  week please ensure  delegate  work   happy new year  louise  request   pending  approval    days  please click   review  act upon  request      request id            request create date     requested         mattsmithenroncom resource         risk acceptance forms local admin rights  permanent resource type        applications david coursey    review  perfect   sure beat       welcome    year  review column            feel  safe  asserting   reading           first    pretty good year unless           course  hate microsoft love linux            hoping hp  compaq would unite read             highlights   year thats            happen        news analysis  sylvia carr      ms stalling  jobs   cable woes persist      could microsoft  stalling  nine     states still pursing  software giants     antitrust case sure think  theyve     asked  federal judge  reject microsofts     request  delay  remedy hearings     though microsoft says  holdup       states fault  seeking       tough remedy        expert advice   stephan somogyi     look ahead   technologies  fare          great year  tech              coming year stephan takes  stab  predicting            happenand   hopes  happenwith          mac  x firewire gaming                                         robert vamosi      patch  new windows xp machinenow       little      holidays            may  missed  news   security          vulnerability  windows discovered            days  christmas robert tells  whats           stake    protect  pc                                       preston gralla    lost  file  problem find     tools       new years resolution   get organized          youre  luck preston recommends three          downloads  help  straighten            data filling   pc  locate  files           may  lost                                       crucial clicks make sure  see  features  zdnet today     windows upgrades stop   check  sonys music machine     profit  emeetings     elsewhere  zdnet  thrill  favorite techie  perfect presents  zdnet shopper   ten tips  help  attain crm roi   get  lowdown    different wireless lan standards   editors top  check   best gifts money  buy   find   standardizing   tech updates special report        anchordesk comes   free  charge   service  zdnet   companion web site anchordesk includes full details   stories  see  plus latebreaking news links  indepth information  much  visit httpwwwanchordeskcom   subscribe unsubscribe  make changes   subscription please go       sending  news alert   address pallenenroncom please make sure  provide  address    email messages  us  thanks  copyright   zd inc zdnet   registered service mark  zd inc zdnet logo   service mark  zd inc        special offer brought    cbs sportslinecom  dear    better way  celebrate   fantastic deals  pizza hut   order  favorite pizza hut  pizza   big party  game    happy new year   access  print coupons click      thanks   choosing pizza hut       received  email   registered  cbs sportslinecom       receive  special email offers   unsubscribe  clicking  link  hrefhttpwwwsportslinecomunewslettersnewslettercgiemailpallenenroncomhttpwwwsportslinecomunewslettersnewslettercgiemailpallenenroncoma   subscribed     although   sending  email   sportslinecom   responsible   advertisers content  makes  warranties  guarantees   products  services advertised sportslinecom takes  privacy seriously  learn   sportslinecoms use  personal information please read  privacy statement   hrefhttpcbssportslinecomuuserservicesprivacyhtmhttpcbssportslinecomuuserservicesprivacyhtma                                                                                                                                                                                                                           html head titlepizza huttitle head body bgcolorffffff       header image goes   table     trtd      alttdtr table     header image  table     alignleft bgcolorwhite trtd   td  td    content   table     aligncenter  trtd        trtd   typeblock    td  typeblock    td    font facearial  colorblackb   dear phillip p    better way  celebrate   fantastic deals  pizza hutsupfont     order  favorite pizza hutsupfont  pizza   big party  game      happy new yearp   b   font   pp   hr   colorblack   img srchttpimagessportslinecomimagessalespizzahutbuttonsgif    alignleft  usemapbuttons   font faceverdana  colorblack   bsign   pizza hutsupfont   get  latest  greatest offers    updates  new exciting pizzas sent directly  youp     information  pizza hutsupfont  please click hereb   pfont  br   td   td  typeblock    td   typeblock   tr  map namebuttons area   shaperect area   map     trtd   typeblock   td   aligncenterimg        td   td   typeblock   tr   trtd   typeblock  td   font faceverdana  colorblacknbsp  img srchttpimagessportslinecomimagessalespizzahutbarcodeasterickgif    srchttpimagessportslinecomimagessalespizzahutbarcodebgif  srchttpimagessportslinecomimagessalespizzahutbarcodeagif  srchttpimagessportslinecomimagessalespizzahutbarcodengif    altimg srchttpimagessportslinecomimagessalespizzahutbarcodeqgif  srchttpimagessportslinecomimagessalespizzahutbarcodeasterickgif   nbsp nbspnbspnbsp bb img srchttpimagessportslinecomimagessalespizzahutbarcodeasterickgif    srchttpimagessportslinecomimagessalespizzahutbarcodebgif  srchttpimagessportslinecomimagessalespizzahutbarcodebgif  srchttpimagessportslinecomimagessalespizzahutbarcodengif    altimg srchttpimagessportslinecomimagessalespizzahutbarcodeqgif  srchttpimagessportslinecomimagessalespizzahutbarcodeasterickgif   nbsp nbspnbspnbsp bc img srchttpimagessportslinecomimagessalespizzahutbarcodeasterickgif    srchttpimagessportslinecomimagessalespizzahutbarcodebgif  srchttpimagessportslinecomimagessalespizzahutbarcodecgif  srchttpimagessportslinecomimagessalespizzahutbarcodengif    altimg srchttpimagessportslinecomimagessalespizzahutbarcodeqgif  srchttpimagessportslinecomimagessalespizzahutbarcodeasterickgif     td   td   typeblock   tr    trtd      alttd tr table br div aligncenterfont facearial   click     trouble printing  couponsba  fontdiv   content   pbr font facearial helvetica sansserif   received  email   registered  cbs sportslinecom       receive  special email offers   unsubscribe  clicking  link  hrefhttpwwwsportslinecomunewslettersnewslettercgiemailpallenenroncomhttpwwwsportslinecomunewslettersnewslettercgiemailpallenenroncoma   subscribed    p although   sending  email   sportslinecom   responsible   advertisers content  makes  warranties  guarantees   products  services advertised sportslinecom takes  privacy seriously  learn   sportslinecoms use  personal information please read  privacy statement   hrefhttpcbssportslinecomuuserservicesprivacyhtmhttpcbssportslinecomuuserservicesprivacyhtma font br img      td td  td   trtable br clearall  bottom bar image table  table     alignleft trtd  srchttpimagessportslinecomimagesnewslettereefootergif    alttdtr table    please   remove     body html deployed  yelvyp    dear phillip    email  automated notification   availability   current natural gas intelligence newsletters please use  username  pallen   password  access         ngis bidweek survey  httpintelligencepresscomsubscribersindexhtml     forgotten  password please visit   httpintelligencepresscompasswordhtml    send       would like  stop receiving email notifications   publications  available please reply   message  remove email   subject line  thank    subscription   information   intelligence press products  services including maps  glossaries visit  web site  httpintelligencepresscom  call tollfree     rights reserved   intelligence press inc  dear phillip    email  automated notification   availability   current natural gas intelligence newsletters please use  username  pallen   password  access         ngis daily gas price index  httpintelligencepresscomsubscribersindexhtml     forgotten  password please visit   httpintelligencepresscompasswordhtml    send       would like  stop receiving email notifications   publications  available please reply   message  remove email   subject line  thank    subscription   information   intelligence press products  services including maps  glossaries visit  web site  httpintelligencepresscom  call tollfree     rights reserved   intelligence press inc   request   pending  approval    days  please click   review  act upon  request      request id            request create date     requested         mattsmithenroncom resource         risk acceptance forms local admin rights  permanent resource type        applications attached   information   requested  thanks brad jones gregphillip  attached   grande communications service agreement   business points   found  exhibit     get  nondisturbance agreement     executed    grande    fill   legal description   property    received   please execute  send   grande communications  carlson circle san marcos texas  attention hunter williams   bishopscontractdoc  hunter williams grande communications wireless       bishopscontractdoc gregphillip    need two  executed copies   agreement  hunter williams grande communications     original message    hunter williams  sent tuesday september    pm   gthorsekeyadcom  cc   subject service agreement   gregphillip   attached   grande communications service agreement   business  points   found  exhibit     get  nondisturbance agreement      executed    grande    fill   legal  description   property    received   please execute   send   grande communications  carlson circle san marcos texas   attention hunter williams     hunter williams  grande communications  wireless     phillip    number  alternative systems   allow   level  energy efficiency  would wait  bit  winks bid though  say   panel costs   additional  sounds like  lot     panel house    sq ft footprint   total panel cost      inch walls   inch roof stay  touch    discuss alternatives   becomes necessary   budget    sq ft  excluding land costs  costs     low    true custom home level    achievable  good management richard morgan manager green building program austin energy  barton springs rd austin tx  ph  fax  email richardmorganaustinenergycom   original message   phillip   sent wednesday october      morgan richard subject   richard   spoke   earlier  week  questions  building  sips    planning  build  home  san marcos  soon    decide   builder  materials   already   blueprints completed    took   conversation    use  sips   roof panels  use  metal roof     working  johnnie brown  builder  san antonio     creative panel rep   problem      budget       appear     able  stay within  budget   dont   settle   conventional stick built house    wondering  alternatives  would  combination   radiant barrier  noncfc spray insulation provide close    energy savings   lower cost  sips  example   spoke   sales rep  demilec    spray foam insulation    would  approximately  compared    additional costs   panels   would  foam insulation   effective     suggestions  materials  contractors  would help  construct  best home   money    trying  get  bid  wink  premier based   reference  thank    help  phillip  pallenenroncom      email   property  enron corp andor  relevant affiliate  may contain confidential  privileged material   sole use   intended recipient   review use distribution  disclosure  others  strictly prohibited      intended recipient  authorized  receive   recipient please contact  sender  reply  enron corp  enronmessagingadministrationenroncom  delete  copies   message  email   attachments hereto   intended    offer   acceptance    create  evidence  binding  enforceable contract  enron corp     affiliates   intended recipient    party  may   relied   anyone   basis   contract  estoppel  otherwise thank     three  deals    fax    let  know     interest  thanks  jeff smith  smith company  circle drive austin texas    office  fax  mobile jsmithaustintxcom    metropolitan sales sheetxls    south center oaks sales sheetxls    treaty oaks sales sheetxls phillip   could  please    favor   would like   read  current title policy  see   says  easements      received  copy   closing   dont know  many  pages     let  know     handle getting  copy  made    happy  make  copy  whatever makes  easy      thanks   bob huntley phillip  pursuant   request please see  attached  thanks  renee  phillip  enclosed please find  first amendment  contract   review  execution  please sign  amendment   earliest convenience  fax  copy       please overnight  original     address       questions  concerns please contact      thanks  michelle  simpkins winstead sechrest  minick pc  congress avenue suite  austin texas       fax msimpkinswinsteadcom       phillip  enclosed please find  blackline   first amendment  contract showing  revisions    forwarded  clean version   amendment     signature      questions  concerns please contact      thanks  michelle  simpkins winstead sechrest  minick pc  congress avenue suite  austin texas       fax msimpkinswinsteadcom      phillip  keith  attached   first draw request   need    funds immediately  think checks   bishops corner lp may   easiest    wire money      write  checks  needed  please let  know   wish  handle     proceed  additionally   getting close  closing   need  get contracts signed   point  soon  possible   handle   two ways  prefer   elect    vice  president   general partner     sign  documents    federal express contracts    difficult     funeral       back    look forward  hearing     greg      draw     hi phillip   message   confirm  meeting    tuesday october         location   eb   attendees   monica brown  sheri righi  let  know     questions     reached    thanks monica  brown accenture houston    parkway direct dial     vpn  octel    fax     email monicalbrownaccenturecom     message    designated recipient   may contain privileged  confidential information     received   error please notify  sender immediately  delete  original    use   email    prohibited phillip  interpretation      made  total half  new deals    half  reserve releases    back   prudency release  get back  zero net curve shift       original file  approximately optics arent good dp   original message   hayden frank   sent monday december    pm  port david subject fw gas pl  day     original message   jones brad   sent monday december    pm  danielmcdonaghchasecom  phillip   cc hayden frank gossett jeffrey  subject gas pl  day  attached   information   requested  thanks brad jones phillip    found  title policy  thanks  bob huntley    original message   phillipkallenenroncom  wisecounsellplcom sent thursday october     subject  huntleyquestion      try  find  title policy  evening         original message          robert w huntley cfp wisecounsellplcomenron       sent   thursday october    pm             phillip        subject  huntleyquestion         phillip        could  please    favor   would like   read  current       title policy  see   says  easements            received  copy   closing   dont know  many  pages           let  know     handle getting  copy  made         happy  make  copy  whatever makes  easy           thanks        bob huntley        email   property  enron corp andor  relevant affiliate  may contain confidential  privileged material   sole use   intended recipient   review use distribution  disclosure  others  strictly prohibited      intended recipient  authorized  receive   recipient please contact  sender  reply  enron corp  enronmessagingadministrationenroncom  delete  copies   message  email   attachments hereto   intended    offer   acceptance    create  evidence  binding  enforceable contract  enron corp     affiliates   intended recipient    party  may   relied   anyone   basis   contract  estoppel  otherwise thank     sheri   would like  discuss  practice questions  graphic ideas      knowledge system   wanted  get  feedback    well   input  thanks monica                  phillipkallenenronc                                               monica  browninternalaccentureaccenture                                            cc                           subject      confirmation risk management simulation meeting                                                  please send  details regarding  meeting        original message         monicalbrownaccenturecomenron      sent   monday october               pallenenroncom      cc     sheriarighiaccenturecom      subject  confirmation risk management simulation meeting        hi phillip        message   confirm  meeting    tuesday october                   location   eb   attendees             monica brown  sheri righi       let  know     questions     reached              thanks      monica  brown      accenture      houston    parkway      direct dial          vpn  octel         fax          email monicalbrownaccenturecom          message    designated recipient   may contain      privileged  confidential information     received        error      please notify  sender immediately  delete  original              use   email    prohibited       email   property  enron corp andor  relevant affiliate  may contain confidential  privileged material   sole use   intended recipient   review use distribution  disclosure  others  strictly prohibited      intended recipient  authorized  receive   recipient please contact  sender  reply  enron corp  enronmessagingadministrationenroncom  delete  copies   message  email   attachments hereto   intended    offer   acceptance    create  evidence  binding  enforceable contract  enron corp     affiliates   intended recipient    party  may   relied   anyone   basis   contract  estoppel  otherwise thank        message    designated recipient   may contain privileged  confidential information     received   error please notify  sender immediately  delete  original    use   email    prohibited   cannot read  email please click    earningscom  csco upgradedowngrade history earningscom     view todays upgradesdowngradescoverage initiated  briefing   cisco systems inc csco       date brokerage firm action details    ag edwards  downgraded  buy   strong buy      needha   company  downgraded  buy   strong buy      jp morgan   downgraded  lt buy   buy      unterberg towbin  upgraded   strong buy  buy      buckingham research  upgraded  accum ulate  neutral      needham  company  upgraded  strong buy   hold      soundview technology  coverage initiated  buy       fs  kasper  upgraded  strong buy  buy       cibc world markets  upgraded  buy  hold      needham   pany  downgraded  hold   buy      dresdner kleinwort wasser stein  downgraded  reduce   hold      warburg dillon reed   upgraded  buy  hold      thomas weisel  coverage initiated   buy      first union capital  downgraded  mkt perform    buy      mrgn stnly  upgraded  outperform  neutral       gruntal  company  downgraded  lt mkt performer   lt outperf ormer      lazard freres  co  coverage initiated  underperfor       warburg dillon reed  downgraded  hold   buy       first union capital  downgraded  buy   strong buy       needham  company  downgraded  buy   strong buy      buc kingham research  coverage initiated  neutral      needham  co mpany  upgraded  strong buy  buy      needham  company   graded  buy  hold      robertson stephens  downgraded  mk  performer   lt attractive      first albany  downgraded   neutral   buy      banc  america  downgraded  buy    trong buy       g cowen  downgraded  buy   strong buy       morgan stanley dw  downgraded  neutral   strong buy       robertson stephens  downgraded  lt attractive   buy       lehman brothers  downgraded  buy   strong buy       abn amro  downgraded  add   buy      gruntal  company   owngraded  nt mkt performer   nt outperformer      dain rau scher wessels  downgraded  buy aggressive   strong buy aggress       csfb  downgraded  buy   strong buy      gruntal   company  coverage initiated  ntlt outperformer      cibc wor ld markets  downgraded  hold   buy      merrill lynch   graded  nt accum   nt buy      unterberg towbin  coverage  nitiated  buy      ing barings  coverage initiated  strong        sanford bernstein  downgraded  mkt perform   outperf orm      dlj  coverage initiated  buy      morgan  nley dw  coverage initiated  strong buy      prudential securi ties  coverage initiated  strong buy      abn amro  coverage  itiated  buy      first union capital  coverage initiated  st rong buy      briefingcom    leading internet provider  live market  analysis  us stock us bond  world fx market participants      earningscom inc  rights reserved   us   contact us     webmaster   site map   privacy policy   terms  service     cannot read  email please click    earningscom  eog upgradedowngrade history earningscom     view todays upgradesdowngradescoverage initiated  briefing   eog resources inc eog       date brokerage firm action details    banc  america  upgraded  strong buy  buy      sws secur ities  coverage initiated  buy      lehman brothers  upgraded   strong buy  buy      stifel nicolaus  downgraded  accumul ate   buy      ag edwards  downgraded  maintain position    buy      jeffries  company  downgraded  accumulate  fr  buy      freidman billings  downgraded  accumulate          jp morgan  coverage initiated  lt buy       sfb  downgraded  buy   strong buy      csfb  upgraded  st rong buy  buy      lehman brothers  downgraded  buy    trong buy      ag edwards  upgraded  buy  accumulate       jeffries  company  upgraded  buy  accumulate       merrill lynch  upgraded  nt buy  nt accum      cibc  rld markets  downgraded  hold   strong buy      ag edward   downgraded  accumulate   buy      deutsche bank  coverag  initiated  strong buy      deutsche bank  downgraded  mkt p erform   strong buy      ag edwards  coverage initiated   buy      jeffries  company  coverage initiated  accumulate       deutsche bank  upgraded  strong buy  buy       paine webber  coverage initiated  attractive      banc  amer ica  downgraded  buy   strong buy      salomon smith barney   coverage initiated  buy      briefingcom    leading internet prov ider  live market analysis  us stock us bond  world fx market  participants     earningscom inc  rights reserved    us   contact us    webmaster   site map   privacy policy   terms  ser vice   amazoncom delivers home  garden        home   garde       editor teri kieffer   october           search  booksrare   used books kids booksspanish booksall products  brow   home  garden choose   subjectarts   photographybiographies   memo irs business   investing childrens  bookscomputers   internet cooking   food  wine engineeringentertainmentgay   lesbian health  mind  body  toryhome   gardenhorrorlawliterature   fiction medicinemystery   thrille rs nonfictionoutdoors   nature parenting   families professional   techn ical referencereligion   spiritualityromancesciencescience  fiction  fant asysportsteenstravelaudio  booksbargain  bookschristian  books  ebooks   docslarge  printoprahspanishlanguage          terrific books  coming   nowin prime time   holiday gifting  simply  escaping  pleasant dreams   redecoratin g  home landscaping  yard  planning  next craft  project  arolyne roehm gives us  privileged glimpse   entertaining  secrets  iane ackerman treats us   lyrical trip around  garden  bethany  r eynolds      new stacknwhackier quilts book  many new   ideas  layering  cutting multiple pieces   whole lot  hap py  reading teri kieffer         home        fruitcake  garlands  cente rpieces    marthas newest holiday guide classic crafts  recipes    holidays brings brilliant  christmas crafts right   fingert ips unique ideas simple  elegant  decorations  truly edible fruitc ake   order   day    see    marthas holiday guides              home  carolyne roehm     icon  carolyne roehm   former fashion designer carolyne roehm  renowned  combining  keen app reciation  beauty   practical knowhow   gorgeously illustra ted guide available   october  readers  go behind  scenes   r memorable parties learn   entertaining secrets  visit  glamoro us homes    dazzled   prominent guests   publisher       read       price       save           see   special occasions titles            garage rein venting  place  park     icon   obolensky  anyone  thinks   garage  simply  place  park  car  never think  way      look   book garage takes  look   last  undiscovered f rontier  home designthe  versatile room     house  book  explores many uses   ubiquitous spacefrom studio  library   useum  soundstage playroom  greenhouse    publisher       read       price       save           see   home design titles            tools  complete illus trated encyclopedia     icon  garrett wade dick frank photographer    spectacular visual dictionary     beautifully photographed  ls  gorgeous  volume presents  dazzling range   trusty  fa miliar hammer   screwdriver    handsome ebony  rosewood marki ng gauge   simply  must   make   precise marks     cutand lets  forget   crosscut saws ripsaws tenon saws  tail saws slotting saws veneer  saws frame saws bucksaws bow saws cop ing saws  jewelers saws needed     actual cutting   p ublisher      read       price       save           see   titles  tools         garde          cultivating delight  natural history   garden       icon  diane ackerman  diane ackerman relishes  world   gard     poet  finds within    endless field  metaphors    turalist  notices  small  miraculous detail  hummingbirds    routines  showy tulips  crazy  yellow forsythia  visiting  deer  writes  love watching  deer   always arrive like magic    miracle   answer   unasked  question   popular book     natural history   senses  ackerman celebrates   human body   cultivating delight  natural history    garden  turns  attenti    world outside  body  outside  human sphere structured   seasons    book   subtle shifts   reader never feels lost         read       price       save           see   gardening  horticulture essays               gardener  simple strategies  extending  growing  season      icon  jeff ashton     vegetable gardeners  dread winter  nd grocery store produce aisles jeff ashton    answer     dont allow  cold   cover  plants  like  would  child    crib   gardener   book   defying  tyranny     building contraptions  control   plants environment    clearly written detailed guide   constructing row covers tunnels  g reenhouses      read       price       save             books  horticultural technique              greater perfection  story   gardens   quatre  vents      icon  francis  cabot   quatre vents  charlevoix county quebec    acclaimed    aesthetically  satisfying  horticulturall  exciting landscape experience  north  america  garden seamlessly co mbines elements   best gardening traditions    original    unexpected   splendid composition    nevertheless perfectly  ompatible   natural surroundings    publisher       read       price       save            books  landscape design         crafts      yuletide crafting  decorating   delights   incredibly   holidays  upon us   help  get started    planning  ake  look   list  holiday craft guideseverything   martha  warts latest  christopher radkos heart  christmas   stock     peruse   selection            vogue knitting   go chunky knit      icon  trisha malcolm editor  fashion meets function  supersize  stitches chic styles  ultrahip accessories large  needles simple  hapes  multiple strands  yarn make  fabulous selection   dazzli ng pullovers vests tunics turtleneckseven accessories    homea  fast  finish    stylish best        chunky  knit designs   women  children  sized  right  fit  eas ily   knitting bag offering  convenience every busy knitter   go    appreciate   publisher      read        price       save          see   knitting b ooks            stacknwhackier quilts another magic stacknwhacktm  ok      icon  bethany  reynolds    ready   adventure   nknown territory within almost every print fabric  lies  world  designs  waiting   discovered   instructions   projects   book     ready  find unique  wonderful patterns     unex pected places whether    new quilter looking    easy  intri guing project   veteran seeking new challenges   find  delightf  possibilities  stacknwhack method engages  eyes   mind thro ugh  step   process  cutting  piecing   finishing  new  designs emerge  change like patterns   kaleidoscope    pub lisher      read       price       save           see   quilting books         bestsellers   home  garden          private house      rose  tarlow    price     save           welltended  p erennial garden planting  pruning techniques      tracy disabato aust steven  still foreword    price     save                big house   blueprint   way  really live       sarah susanka  obolensky contributor    price      save              discover   amazoncom        refine  email  choices    receive mo  recommendations   expert  editors  visit   amazoncom   livers signup page     see   delivers categories            kitchenaid  sweepstakes   enter   sweepstakes    ch ance  win   kitchenaid appliances                look  inside many   books   buy   thou sands   books   available    browse   amazoncom   time  see  bent orange  arrow   bookor  words look insi deit means parts   book   available    look  online   learn     try looking inside    impatient gardener       visit   reading room                                           hope  enjoyed receiving   ewsletter however  youd like   unsubscribe please use  link belo w  click   account button    top right corner   page    amazoncom web site    email  subscriptions heading click   manage  delivers link   httpwwwamazoncomsubscriptionsupd ate     may  change  communication preferences  clicking    following link   httpwwwamazoncomcommunications    please note    prices   items featured   accurate    time  news letter  sent however   prices sometimes  change  prices    newsletter occasionally differ    see    visit  r store   copyright  amazoncom inc  rights reserved        second edition  new gen weekly  available  download   report   found   odropboxwest new       comments   report including ease  access please direct     soon  possible   james bruce  enron north america    west power desk      sw salmon    fax portland    jamesbruceenroncom                                                                      updated oct                                 tva takes lead  sales  generation  utilities  quasigovernmental entity tennessee valley author ity tva took  top spot   utility   largest electricity sal   generation   according   latest data  boulder colo based rdi powerdat  division                                                                                                                                                                                                                                                mexican electricity reform put  back burner economic recession  ys sector restructuring  dependence  foreign gas oil increases                                                            utilities slow  buy   asp market asps allow companies  focus  customer service function    attraction                                                             osting  capacity   spr  calls  boost reserves  stripper produ ction  hesitation attributed  concern  oil price impacts                                                  nabors affiliate  acquire command drillin g  full story   georgia power announces partnership  nigerian compan  full story   coalition aims  sell residential green power  ri   story   enrons debt ratings cut full story   meeting scheduled   review dabhol project full story   mexico   immediate plans  cut  oil output full story   nerc transmission congestion  rise  next  decade full story   judge rules  bostons attempt  ban lng tan  full story   domestic pipeline capacity must grow  meet expected g  demand full story   cms could expand lng facility   mcfday  full story    view   todays executive news headlines  click                                 copyright    platts  rights reserved      market bri ef  monday october   stocks close change  change djia     dj  util    nasdaq    sp          market vols close change  change amex      nasdaq     nyse          commodities close change  change crud  oil dec     heating oil nov     nat   henry     propane nov     palo verde       cob nov     pjm nov          dollar us  close change  change australia       anada       germany dmark     euro        japan      mexico np      uk pound          foreign indices close change  chan  arg merval    austr  ord     braz bovespa     tse       germany dax    hk hangseng     pan nikkei      mexico ipc      uk ftse          source  yahoo  tradingdaycom                                                                   market briefsxls please note   callin information  changed   callin information   tuesday portland fundamental analysis strategy meeting   follows         date   tuesday        time    pm pst        dial  number        participant code          questions please contact kathy sheppard    thanks  request   pending  approval    days  please click   review  act upon  request      request id            request create date     requested         mattsmithenroncom resource         risk acceptance forms local admin rights  permanent resource type        applications  method  distribution   weekly reports  changed  hard copies    distributed   administrative assistant     receive  paper copy   report please send   email request including  location  admin     information   reports   internal use       basis  investment decisions    please let  know     questions  comments  james bruce  enron north america    west power desk      sw salmon    fax portland    jamesbruceenroncom fyithe daily numbers     include middle market orig       inclusive  middle market orig        prize would  prefer  win phillip   time  pick  prize  chances  win  big screen tv    cash tell    friends  iwon   could win  prize   choice click   enter  phillip    good luck   fun   iwon team      forgot  member      forgot  iwon password click       received  email    registered  iwon  agreed  receive email  us  unsubscribe     email categories please click  please note changes may     week  process  youre  signed    need       update  profile click   request   pending  approval    days  please click   review  act upon  request      request id            request create date     requested         mattsmithenroncom resource         risk acceptance forms local admin rights  permanent resource type        applications  original message     stephen  bilby    alfred  newman email   army email   armando martinez email    bryan lilley  email   craig carter email     email    hnsglasgow  email   jd tamez email    thierheimer  email   mark ritter email   mike  freeman email   russellprevost email    wolfe  email   steve levine email   ron  underwood   sent monday october     subject golfin  wedding hello      see     able  golf  friday  saturday friday   golf    san antonio  everything  taken   already        quarry   think  times    adn    saturday    golf   shreiner public golf course     tee time       fee      believe       far        golf  friday  meof  course  jd  tamez  henry  glasgow  colin  murphy       saturday     following  far   mehopefully    thierheimer  tom  thierheimer  steve  levine    wolfe  armando  martinez  vince  martinez    email  back     going   able  well get    sure    sure looking  forward   seeing everyone  teri  mines big day      even  beautiful        talk    soon stephen  bilby  director  sales   rk group    sbilbytherkgroupcom dear phillip    email  automated notification   availability   current natural gas intelligence newsletters please use  username  pallen   password  access         ngis daily gas price index  httpintelligencepresscomsubscribersindexhtml     forgotten  password please visit   httpintelligencepresscompasswordhtml    send       would like  stop receiving email notifications   publications  available please reply   message  remove email   subject line  thank    subscription   information   intelligence press products  services including maps  glossaries visit  web site  httpintelligencepresscom  call tollfree     rights reserved   intelligence press inc  esource presents lexisnexis training  basic  lexisnexis basic  geared   novice  prospective user    learn  basics  getting around nexiscom     talk  news  company information available  lexisnexis  attend  lexisnexis basics clinic       november       pm       due diligence   session  focus   specific company public records   sources available  lexisnexis  help  find  possible aspects   companys business  strengths  liabilities    attend  lexisnexis due diligence clinic   november       pm     seats fill  fast  reserve  seat please call stephanie  taylor    cost    person noshows   charged    please bring  lexisnexis login id  password   dont    guest id   provided          esource presents free lexisnexis online training   using placeware  interactive web learning tool   participate   training session  anywhere   world  basics  lexisnexis basic  geared   novice  prospective user    learn  basics  getting around nexiscom    news  company information available  lexisnexis  attend  lexisnexis basics online clinic   november    central standard time   please rsvp  stephanie  taylor    stephanieetaylorenroncom   email instructions  placeware     note    time scheduled   convenient   time zone please let us know    schedule  sessions        esource presents dow jones interactive training  introduction  dow jones interactive personalizingcustomizing dji  custom clips    learn   tailor dji  display information    helpful       learn   create   personal news page  view headlines   chosen publications   custom clip folders   custom clips   set   automatically send   important news   key topic  company information  affects  business decisions   attend    dow jones interactive basics clinics       november     pm  november     pm         advanced  learn     efficient  dow jones interactive  put  power tools  work     learn   employ codes use search history  customize  hands  time  provided  attend  dow jones interactive advanced clinic   november     pm      seats fill  fast  reserve  seat please call stephanie  taylor     cost    person noshows   charged     check  esource training page   httpesourceenroncomtraininghtm  additional training sessions  vendor presentations  following reports   waiting   approval     days  please review  owner james w reitmeyer report  jreitmeyer  days  mgr queue  phillip     proposal    laddered muni portfolio   bonds  currently  inventory  let  know   think  sincerely  steve   phillip  muni bond proposalxls   notice regarding entry  orders  instructions please   transmit orders andor instructions regarding  ubspainewebber accounts  email orders andor instructions transmitted  email    accepted  ubspainewebber  ubspainewebber    responsible  carrying   orders andor instructions  notice regarding privacy  confidentiality ubspainewebber reserves  right  monitor  review  content   email communications sent  andor received   employees   phillip  muni bond proposalxls     last couple  weeks started  compile  restartintegration plans  netco   far   primarily focussed   midback plans   technology requirements    driving factors  several plans    final stages  completion including   infrastructure  jenny rub  development  jay webb  enrononline  webb  forster  hr   david oxley  cash management tom myers  credit   debbie brackett   rest   completed shortly    need  focus   commercial plans    slightly different focus john   would like  receive  plans restartintegration  plans  january    order  go   individually       groups   focus    ensure     much   business   running   shortest time possible     suggested outline       use   thought  might help  please decide within   areas   cover together  individually  customer side   customers  phase    first week  top      phase    first month  top      phase    first quarter  top   action plan  phase   customers     phase   customers     phase   customers  contracts  customers preprepared  credit terms etc  customer visit schedule  product side  list  products phase   first week     phase   first month     phase   first quarter  target number  transactions  phase   phase   phase    transfer   louise phillip   section pertains  terminated employees   paid    year following  termination event   way  tax law works  tax basis   share distribution   based   closing stock price  day preceding notification   transfer agent      distribute net shares calculating  proper withholding  fair market value  day prior  notifying  transfer agent     distributing  shares reflected    statement  shares plus cash  fractional shares    would prefer  settle  taxes   personal check   distribute gross shares  please let  know  preference    know     process  transferring recordkeeping services  ntrc  hewitt       cpa larry lewis working  us  audit  set  transition files    become  department expert   psa account much  knowledgeable      various plan provision amendments    would like   set   conference call     larry  go   payment methodology  please let  know  date  time   convenient    thanks  renee   original message    phillip    sent thursday november      ratcliff renee subject   renee  thank   digging    issue  deferred phantom stock units    clear   payment   made  shares  however  still dont understand  date   used  determine  value  calculate  many shares   plan document  vii  amount  benefit payments reads  value   shares  resulting payment amount   based   closing price  enron corp common stock   january    date  payment   payment shall  made  shares  enron corp common stock    help  interpret  statement  work   numbers   account  thank   phillip   internet banking accounts   setup   accessing  login id  still  main acct    password  reset   last six  digits   ssn    ssn  tin   primary account holder      directed   screen  asks  information    address city state  phone  email address   entering  information  clicking submit     instructed  change  password  anything   desire  always remember   password  case sensitive  major change   wording   accounts names   changed  product types   descriptions   change  account descriptions  clicking   nicknames button  entering   account description    still working  getting  information  post  correctly  old account information   removed   hope    information converted shortly  back online    notice  credits  debits   show    appropriate columns transaction descriptions  correct   balances information  correct    last day  processing    appreciate  patience  continued support  goal    fully operational   information corrected   holiday season  please make sure  record  suggestions  problems   might  concerning  web site   thanks  banking  state bank  trust  happy surfing  sincerely  howard gordon network administrator hgordonstatebankcom   ibs customers   still hanging     understand  continued frustration  express  sincerest apologies   inability  give complete  accurate answers   questions  problems    seeing    three  possibilities      entered  password incorrectly    thought   correct password   given  error message    exceeded  opportunities  today   receive  message   failed  correctly login three times today please try  tomorrow  contact  bank      password reset    easiest problem  correct    fix   quickly   online   phone   receive  message please call  computer department  ask  either  howard gordon   christina kirby    lora robles     reach  voice mail  another employee please leave   account   call back        using  last six  digits   ssn    ssn  tin   primary account holder please try  using  last six  digits  call us  determine    recorded   primary account holder      see  error message invalid login please try   three    tries   possibly fall   last category  account         convert correctly    release  information   accounts   verify   information  correct  accurate   finalizing  accounts today     available  access  afternoon late   evening   release  accounts  ibs access      use  last six  digits   ssn    ssn  tin   primary account holder     directed   screen  asks  information     address city state  phone  email address   entering  information  clicking submit     instructed  change  password  anything   desire     point change  password back       always remember   password  case sensitive    get  ibs  early evening   balance  transactional information displayed     friday night     information updated   hopefully   information     monday      thank    patience   trying ordeal   look forward  continuing  service  ibs needs   future  sincerely  howard gordon network manager    geninfovcf phillip good morning  hope    wonderful thanksgiving   family  safe travels     meeting  tuesday please identify people  think   good   expert story roles   provide   list  either contact  first  provide    introduction  get  commitment thanks  million  advance   continued support   project  cheers kirk  forwarded  kirk mcdanielhouees        annschenaccenturecom    pm  kmcdanienroncom cc donaldlbarnhartaccenturecom  subject smes  expert stories   hello kirk   hope    well   wanted  let  know     taking   role  producint  expert stories   simulation   understand    obtaining  smes    providing us  expert stories  thank    help      guidlines  keep  mind  number  smes needed   number  expert stories  characteristics  needs   willing  speak  front   camera  mix  structurers originators  traders   ive included   slightly revised version   process    follow  working   smes  develop  film  stories   main difference    need  get  list  smes   instead       need   contacted  smes  set  time     following week  think   contact  smes    least  days especially since    days   friday                            obtain contact information  expert story smes                           contact smes  give  background regarding  simulation describe  role   simulation set   time  discuss ideas  set   time  video shoot                 meet  smes  discuss  categories  content  need     provide stories                           send followup email asking smes  review  stories questions  answers    ask    video shoot                           make changes  stories  necessary                           send final stories  video shoot logistics  smes                            video shoot  please let  know     questions  thanks ann     message    designated recipient   may contain privileged proprietary  otherwise private information     received   error please notify  sender immediately  delete  original    use   email    prohibited michelle     minor comments however  still need  wait   additions based  meeting  smes today  concern   firing   learner  performs  bad   final two scenarios     copyright issues using  cnn type themes  addition  think  need  stay clear  anything  remotely seems like california  anything  really happen  enron ie socal waha  addition comments  regulatory issues may   problem ie california legislature  sheri    read   scripts together  due   similar mechanics  taught  appears  repetitious thus   believe  need  maybe use  dateline type theme      minute type theme  another scenario vice   cnn type theme   last two scenarios   include  promotion    associate program   stellar performers ie title change  manager       cheers kirk  forwarded  kirk mcdanielhouees        kirk mcdaniel     michelle cashenronenronxgate cc tim orourkeenronenronxgate yevgeny frolovenronenronxgate merylbrownaccenturecom lauraadelatorreaccenturecom donaldlbarnhartaccenturecom  subject rm simulation storyline scripts  ready  legal review  michelle  thanks   support   brm project    remaining scripts tim    review    forward  comments    feedback   first two scripts  thanks  cheers kirk  forwarded  kirk mcdanielhouees        sheriarighiaccenturecom    pm  kmcdanienroncom cc merylbrownaccenturecom lauraadelatorreaccenturecom donaldlbarnhartaccenturecom  subject rm simulation storyline scripts  ready  legal review   kirk     combined    storyline scripts intro  scenarios     send  legal   review  comments  incorporated   scripts  scenarios      decided  refer   company   energy incorporated  energy inc rather  using       confusion  enron international      coach exit  scenario   eod tomorrow    meeting   reference   concern  locking   price  collusion   phillips words   hope legal  decide   need  change   please let  know     questions   see attached file rm simulation  intro  scenarios    sheri  righi accenture human performance service line hartford   financial plaza direct dial    vpn  octel   email sheriarighiaccenturecom    message    designated recipient   may contain privileged proprietary  otherwise private information     received   error please notify  sender immediately  delete  original    use   email    prohibited   rm simulation  intro  scenarios  team fyi  sheri   smes   already committed    film need   keep   lope regarding  timeline  check    smes  additional candidates ie check  mark reese  see  lamar frazier would  interested  would like   conferenced    media calls  meetings  cc    emails  forward      emails   keep    loop thanks  phillip     additional people  mind  need  identified  soon  possible thanks  cheers kirk  forwarded  kirk mcdanielhouees        sheriarighiaccenturecom      kmcdanienroncom cc donaldlbarnhartaccenturecom  subject  updates   video production timeframes  scope   kirk   thank   helping us work towards signoff  enron legal seeing   havent  closely involved  thought youd like  update   media production tasks    know   completing  planning phase   production   storyline scripts  media vendor cramer   extremely helpful  enjoyable  work      email  steve  director   storyline video explaining      production process    good day   sheri  righi accenture human performance service line hartford   financial plaza direct dial    vpn  octel   email sheriarighiaccenturecom    forwarded  sheri  righiinternalaccenture                   steve johnson             sjohnsoncrameronlineco             sheri  righiinternalaccentureaccenture                                            cc     chris ciotoli cciotolicrameronlinecom                                              subject      updates   video production timeframes  scope                      hey sheri  hope    great thanksgiving  cant believe   already anywayweve shuffled  schedule around securing      december   shoot   studio  working  finalizing  edit dates  reflect  shift chris  moving  hold  talent   dates   guess     hands  legal  soon   confirm  edit suite availability well revise  post  new schedule  scheduled   weekly call tomorrow   anything comes   give   buzz thanks sheri steve   original message  sheriarighiaccenturecom  sent wednesday november    pm  sjohnsoncrameronlinecom cciotolicrameronlinecom cc merylbrownaccenturecom donaldlbarnhartaccenturecom jonathanostahlaccenturecom subject updates   video production timeframes  scope   hello steve  chris   recently   changes   overall number   scenarios   simulation    seven scenarios versus  nine    discussing  changes result          deletion   intro   exit videos         deletion  six interview questions see  detail           additional characters   still need  characters          talent    casted   laura   working  john  make  required edits   scripts   recieved today midday  based   last discussion id like  recommend  set  date   shoot      first week  dec specifically dec     recommendation  based   response  received   project manager  regards   time      legal review  scripts  please let  know     questions thank     wonderful thanksgiving  sheri  righi accenture human performance service line hartford   financial plaza direct dial    vpn  octel   email sheriarighiaccenturecom    forwarded  sheri  righiinternalaccenture    pm                laura    torre                                                mery  browninternalaccentureaccenture sheri                pm          righiinternalaccentureaccenture                                           cc                                           subject     conversion  arbitrage qa         changes resulting  omitting conversion  arbitrage phillip  ina scheduled  conference room  tomorrow  shes probably already got    schedule  fyi   meeting     new enron building room   see    mery    message    designated recipient   may contain privileged proprietary  otherwise private information     received   error please notify  sender immediately  delete  original    use   email    prohibited phillip   attachment   start    search    experience   probably need  park  money   find  right investment        time  analize    possibilities    coming  friday      drive   properties tomorrow    going    friday  please reply      phillip   spreadsheetxls phillip  could  please email   draw file  created  bishops corner    working  submitting     rather  recreate       send  back    fill   new draw totals    need  vendor payee list   created   land  soft costs  need  reformat   draw number    bank  format    would  easier  get      recreate   please   look   following summary  compare   numbers  see   agree       land  soft costs    initial draw          galaxy    draw               galaxy    draw                 total paid  date cash            project cost            loan amount               equity required             developer profit                  balance  funding              total paid  date              balance  fund cash                 galaxy    draw                 bank  draw                  final cash funding             think  thought     fund however    see   accounted   cash portion   developer fee   paid cis    looking   right please let  know  attach  files discussed     working  day monday   hope   get     possible  thanks  lot  greg thorse let  know   link    sent  trv website doesnt work            start  publish  sheet  ryan   hello integrity realty services   following property available     north rr  austin texas      story retail strip center   exxon convenience store  fuel sales located    austins  rapidly growing areas  excellent visibility  access   rr    salido parkway purchase price  improvements  square feet    information wwwintegrityrscominventoryindexcfm   thank  joe linsalata integrity realty services  south commons ford road  austin tx  office   fax   email joeintegrityrscom large emails     wish   longer receive emails   please reply   email message    remove  email  thanks          email   sent unsolicited     mailing  message  sent  subscribers   email subscription address  pallenenroncom   unsubscribe please click   send  email  remove   subject  removeopthostcom   phillip  insurancerepairs numbers  actually overstated   based  calculations  uspsl owners  agents like us   helped clients buy  sell post offices  years  regards   exercising  renewal options  might  interested  know   usps actually renews     time  post offices     years   range  leases  finally  construction  costs  reflective   construction codes  practices  usps requires  contractors   wellbuilt facilities last  long time    converted  many  uses   post office moves     added another post office   consideration   mcallen   multitenant building    fairly strong cap rate  flyer  attached    case  would  glad  help  look   investment possibilities    let  know  youve already found    might like  find  look forward  hearing    best regards  wills  phillipkallenenroncom wrote       spreadsheet shows   type  return   calculating    insurance  repair numbers seem  low    assuming    options  extend  higher rates   exercised   huge leap   faith   dont believe  properties cost   near        offered    based   optimistic back loaded returns  would   comfortable  purchasing  post office   time  thank  anyway   phillip         original message          james wills        sent   tuesday november                 pallenenroncom       subject   spreadsheets        phillip        hope    well  week   great plans        turkeyday       well   family  austin  kind    maiden voyage          avion   upgrading  camping        heres  look  three post offices   slightly different manner       remember   roma     years old    yr lease       originally   two  new         roma  like buying  savings account  would  paid          years  would reap  cash flow   period         bonus       kicks       yr renewals   higher lease income         paid   would probably go beyond another  years       cash        cash returns dont mean  much  shorter amoritazations like       roma          shown  info  flyers  several people   let us       know          interested    themi really dont think         last long  best regards  wills          new analysisxls  file new analysisxls       email   property  enron corp andor  relevant affiliate  may contain confidential  privileged material   sole use   intended recipient   review use distribution  disclosure  others  strictly prohibited      intended recipient  authorized  receive   recipient please contact  sender  reply  enron corp  enronmessagingadministrationenroncom  delete  copies   message  email   attachments hereto   intended    offer   acceptance    create  evidence  binding  enforceable contract  enron corp     affiliates   intended recipient    party  may   relied   anyone   basis   contract  estoppel  otherwise thank       mcallenwpsdoc please  advised   information  confidential  proprietary   ask   confidential information  treated    accordance  applicable laws  regulations governing disclosure  confidential information  gas marketers   enron  request   pending  approval    days  please click   review  act upon  request      request id            request create date     requested         mattsmithenroncom resource         risk acceptance forms local admin rights  permanent resource type        applications wow   looks complicated  let  get  help    get back        original message   phillip    november      greg lavorato john    greg   making  election  october  receive  full distribution    ferral account  section    plan  disagreement  arisen reg arding  phantom stock account   section  states   participant may elect  receive  single sum dis tribution     participants deferral accounts subject     nalty   provision  stated   notwithstanding   provision    plan    states   account balance shall  determined     last day   month preceding  date    committee  ceives  written request   participant    case  would     september    read  paragraph  indicate  cash payout      value   deferrals   september     plan administ rators however interpret  paragraph differently   reading yield   cash payout     value  deferrals    phantom st ock account   believe   paid     enron corp sha    account   september     justification     several places throughout  plan document  brochures   stated th   distributions   phantom stock account shall  made  shares  f enron corp common stock    two reason     agree   interpretation  first   section  begins  notwithstanding   provision   plan    indicates    payout methodologies described    ctions   plan  deal  normal distribution  termination    apply  second  language  section  stating  single sum distrib ution     participants deferral accounts indicates   pay ment   made   cash payment separate   share distribution   interpretation   administrators goes beyond section        case  section   apply   section  provide    phantom stock account   paid  shares  however  states  val ue   shares  resulting payment amount   based   closin g price  enron corp common stock   january    date  pay ment   payment shall  made  shares  enron corp common stock    would result  approximately  shares   distributed  every  share   account  january    although  would     beneficial   participants due   decline   value  enron cor p common stock      share   methodology goes beyond  ction    calculations  illustrate  difference   value  method   distribution     three interpretations     section     number   shar  relative share  phantom stock     value     current stock    shares   believe  interpretation  section   correct  fair     administrators insist  distributing shares instead  cash  section    apply   current interpretation   plan administrators    hybrid   two sections resulting   lowest possible payout      addition   tom martin scott neal   black  facing    issue   would appreciate  review  consideration   matt   sincerely   phillip      phillip  thank   meeting  us today       minutes  summarize  decisions  came    meeting   feedback approach   incorporate  ideas  suggestions  gave us  move forward   approach    review  knowledge system topics   time comes  topics reviews   send         responsible  signoff   topic   conversion  arbitrage problems   brainstorm ways  incorporate  problems without going    hour target   meet   next tuesday    review  problems  weve designed   far  arrive   solution   send  email monday   room number    good weekend mery    message    designated recipient   may contain privileged proprietary  otherwise private information     received   error please notify  sender immediately  delete  original    use   email    prohibited phillip free software  available    sega ibm disney simon  schuster  many others     selected  receive unlimited free software programs   biggest publishers   world click   receive  free software programs today  click     members click herea   titles  fullversion cdroms  shareware  demos   currently sold  retail outlets   much     act today  supplies last  hurry    advantage   almost toogoodtobetrue offer  clicking   link   yes   free software click     members click herea  brought    freesoftwarepromotions  conjunction  sega tm ibm tm simon  schuster tm  crayola tm            titles    free visit  website  see   american heritage history   us bodyworks  chessmaster  comptons complete  interactive cookbook crayola magic  coloring deer avenger environmentally safe home food lovers encyclopedia future cop  lapd house beautiful   interior designer inside  sat  act logic quest math invaders money town nuclear strike pink panther pizza pilots planetary taxi reader rabbit resumes  work road rash spellbound sega rally championship simon  schusters new millennium encyclopedia smithsonian total amazon think  talk french tom clancys ssn  virtua fighter virtua squad virtual  cybertrooper websters new world dictionary  thesaurus weight watchers light  tasty deluxe world book worldwide soccer   click     members click herea   phillip  email message may   recurring mailing   would like   removed   united marketing strategies email announcement list click   link   may need  copy  paste  link   browserclick      get  free download  msn explorer  httpexplorermsncom   designselectionsdyalrobertsdoc  purposes   accelerated distribution   psa   single sum distribution  section  means   psa account  distributed     distinguished  another form  payout  may   selected   participant     deferral agreement    section   clear    account balance shall  determined    last day   month preceding  date    committee receives  written request   participant   psa account balance  reflected  shares  stock since  form  distribution  shares  stock  additionally  portion   psa balance attributable  deferral  restricted stock  administered  sections     exhibit    plan  section  applicable     accelerating  distribution  psa balances created  deferrals  restricted stock   plan indicates  upon death disability retirement  termination  share units  converted  shares   issued   executive according   payment election made   executive   time   deferral election          therefore  distribution   receive  shares  correct     agree   interpretation   plan phillip    get  room   wednesday  meeting  email    room number fyi  goal   discuss  expert path best answers   storage problem   ask   specific questions regarding storage      time could  send   definition  intramonth risk  thank    help mery    message    designated recipient   may contain privileged proprietary  otherwise private information     received   error please notify  sender immediately  delete  original    use   email    prohibited                                       search  amazoncom           hope  enjoyed receiving  message however  youd rather   receive future emails   sort  amazoncom please  visit  help page  updating  subscriptions  communication preferences   click  customer  communication preferences link   please  note   email  sent   following address  pallenenroncom         esteemed  prized internet banking  ibs clients   probably  begun  wonder  anyone ever return phone calls  emails  really     holed  trying  complete  project asap  knew   might upset  clients   found     quickest way  fix  problem  get  users back online    finalized  movement   customer account   relinked  additional accounts back   primary login id acct   process   daunting   anticipated    verify  ibs users  account   insure  data integrity  confidentiality  even  grueling  expected  verifying data  login ids  believe      right track     ibs clients might notice  accounts displayed     additional accounts displayed   may  may   displayed   ibs screen     case please email  phone  information  us    remove  information right away    ibs billpayer clients    process  seem   misplaced blown away  bill payment information particularly anyone    reoccurring payments scheduled  process  particular days   become  highest priority  retrieve  information thus alleviating  process    request   ibs billpayers reenter  information   going  waive  bill payment charges   months  november  december   try  regain  confidence  support    deeply express  regrets  hope          go   process        ibs clients  still   gained access   account information please refer   following information      entered  password incorrectly    thought   correct password   given  error message   failed  correctly login three times today please try  tomorrow  contact  bank      password reset    easiest problem  correct    fix   quickly   online   phone   email    receive  message please call  computer department  ask  either  howard gordon   christina kirby    lora robles     reach  voice mail  another employee please leave   account   call back        using  last six  digits   ssn    ssn  tin   primary account holder please try  using  last six  digits  call us  determine    recorded   primary account holder since   released  accounts  ibs access      use  last six  digits   ssn    ssn  tin   primary account holder     directed   screen  asks  information     address city state  phone  email address   entering  information  clicking submit     instructed  change  password  anything   desire     point change  password back       always remember   password  case sensitive      thank    patience   trying ordeal   look forward  serving  ibs needs   future  sincerely  howard gordon network manager    geninfovcf  get  free reward       real   americas largest internet companies   granted   may   incredibly valuable reward      r eward groups  get  select  free reward valued      bsolutely free    follows     choose  reward valued             hurry  valuable rewards   withdrawn  anytime   make  selection  choose    three reward groups   fr ee hayo portable cd player   free motorola talkabout twoway radios     free pen  trio included   free reward     aving money   long distance bill  signing   sprint  anytime sm online plan  plan gives    minute statetostate calling w ith  monthly fee simply remain  customer   days complete   demption certificate   receive  mail    send   fre  reward    chosen   free          requires change   statetostate long distance carrier  sprint remaining  customer    days  completion  redemption certificate sent   mail     select  online options   online ordering online bill payment  nline customer service  staying  sprint customer  reduce  month ly reoccurring charge  save  every month promotion excludes curren  sprint customers    '"
      ]
     },
     "execution_count": 18,
     "metadata": {},
     "output_type": "execute_result"
    }
   ],
   "source": [
    "# Let see the result that we have so far...\n",
    "data_clean.Messages.loc['EMAILS'] # to see text for chats or sms, replace EMAILS by CHATS or SMS"
   ]
  },
  {
   "cell_type": "markdown",
   "metadata": {},
   "source": [
    "### 5. Save Corpus "
   ]
  },
  {
   "cell_type": "code",
   "execution_count": 19,
   "metadata": {},
   "outputs": [
    {
     "data": {
      "text/plain": [
       "(3, 1)"
      ]
     },
     "execution_count": 19,
     "metadata": {},
     "output_type": "execute_result"
    }
   ],
   "source": [
    "data_clean.shape"
   ]
  },
  {
   "cell_type": "code",
   "execution_count": 20,
   "metadata": {},
   "outputs": [],
   "source": [
    "data_clean_ = data_clean.to_json()"
   ]
  },
  {
   "cell_type": "code",
   "execution_count": 21,
   "metadata": {},
   "outputs": [],
   "source": [
    "df_ = df.to_json()"
   ]
  },
  {
   "cell_type": "code",
   "execution_count": 22,
   "metadata": {},
   "outputs": [],
   "source": [
    "with open(outfile_path + 'clean_corpus' + \".json\", 'w') as corpus:\n",
    "    json.dump(data_clean_, corpus)\n",
    "    \n",
    "# lets also save our raw corpus it might be usefull later    \n",
    "with open(outfile_path + 'raw_corpus' + \".json\", 'w') as corpus:\n",
    "    json.dump(df_, corpus)\n",
    "    \n",
    "    \n",
    "# Save pickles files \n",
    "with open('Pickles/clean_corpus.pickle', 'wb') as output:\n",
    "    pickle.dump(data_clean, output)\n",
    "\n",
    "    \n",
    "with open('Pickles/raw_corpus.pickle', 'wb') as output:\n",
    "    pickle.dump(df, output)"
   ]
  },
  {
   "cell_type": "markdown",
   "metadata": {},
   "source": [
    "### 6. Save Document-Term Matrix"
   ]
  },
  {
   "cell_type": "code",
   "execution_count": 23,
   "metadata": {},
   "outputs": [
    {
     "data": {
      "text/html": [
       "<div>\n",
       "<style scoped>\n",
       "    .dataframe tbody tr th:only-of-type {\n",
       "        vertical-align: middle;\n",
       "    }\n",
       "\n",
       "    .dataframe tbody tr th {\n",
       "        vertical-align: top;\n",
       "    }\n",
       "\n",
       "    .dataframe thead th {\n",
       "        text-align: right;\n",
       "    }\n",
       "</style>\n",
       "<table border=\"1\" class=\"dataframe\">\n",
       "  <thead>\n",
       "    <tr style=\"text-align: right;\">\n",
       "      <th></th>\n",
       "      <th>able</th>\n",
       "      <th>abn</th>\n",
       "      <th>accelerated</th>\n",
       "      <th>accelerating</th>\n",
       "      <th>accenture</th>\n",
       "      <th>acceptance</th>\n",
       "      <th>accepted</th>\n",
       "      <th>access</th>\n",
       "      <th>accessing</th>\n",
       "      <th>accessories</th>\n",
       "      <th>...</th>\n",
       "      <th>我會等待確認</th>\n",
       "      <th>是东亚地区统一的一党主权国家</th>\n",
       "      <th>澳门特别行政区</th>\n",
       "      <th>照总面积计算</th>\n",
       "      <th>現在</th>\n",
       "      <th>裤脚</th>\n",
       "      <th>許多人需要同意</th>\n",
       "      <th>還沒有</th>\n",
       "      <th>重庆</th>\n",
       "      <th>鞋子全部打湿完了</th>\n",
       "    </tr>\n",
       "  </thead>\n",
       "  <tbody>\n",
       "    <tr>\n",
       "      <th>SMS</th>\n",
       "      <td>0</td>\n",
       "      <td>0</td>\n",
       "      <td>0</td>\n",
       "      <td>0</td>\n",
       "      <td>0</td>\n",
       "      <td>0</td>\n",
       "      <td>0</td>\n",
       "      <td>0</td>\n",
       "      <td>0</td>\n",
       "      <td>0</td>\n",
       "      <td>...</td>\n",
       "      <td>0</td>\n",
       "      <td>0</td>\n",
       "      <td>0</td>\n",
       "      <td>0</td>\n",
       "      <td>0</td>\n",
       "      <td>1</td>\n",
       "      <td>0</td>\n",
       "      <td>0</td>\n",
       "      <td>0</td>\n",
       "      <td>1</td>\n",
       "    </tr>\n",
       "    <tr>\n",
       "      <th>CHATS</th>\n",
       "      <td>1</td>\n",
       "      <td>0</td>\n",
       "      <td>0</td>\n",
       "      <td>0</td>\n",
       "      <td>0</td>\n",
       "      <td>0</td>\n",
       "      <td>0</td>\n",
       "      <td>0</td>\n",
       "      <td>0</td>\n",
       "      <td>0</td>\n",
       "      <td>...</td>\n",
       "      <td>1</td>\n",
       "      <td>1</td>\n",
       "      <td>1</td>\n",
       "      <td>1</td>\n",
       "      <td>1</td>\n",
       "      <td>0</td>\n",
       "      <td>1</td>\n",
       "      <td>1</td>\n",
       "      <td>1</td>\n",
       "      <td>0</td>\n",
       "    </tr>\n",
       "    <tr>\n",
       "      <th>EMAILS</th>\n",
       "      <td>3</td>\n",
       "      <td>2</td>\n",
       "      <td>1</td>\n",
       "      <td>1</td>\n",
       "      <td>5</td>\n",
       "      <td>9</td>\n",
       "      <td>1</td>\n",
       "      <td>11</td>\n",
       "      <td>1</td>\n",
       "      <td>2</td>\n",
       "      <td>...</td>\n",
       "      <td>0</td>\n",
       "      <td>0</td>\n",
       "      <td>0</td>\n",
       "      <td>0</td>\n",
       "      <td>0</td>\n",
       "      <td>0</td>\n",
       "      <td>0</td>\n",
       "      <td>0</td>\n",
       "      <td>0</td>\n",
       "      <td>0</td>\n",
       "    </tr>\n",
       "  </tbody>\n",
       "</table>\n",
       "<p>3 rows × 2937 columns</p>\n",
       "</div>"
      ],
      "text/plain": [
       "        able  abn  accelerated  accelerating  accenture  acceptance  accepted  \\\n",
       "SMS        0    0            0             0          0           0         0   \n",
       "CHATS      1    0            0             0          0           0         0   \n",
       "EMAILS     3    2            1             1          5           9         1   \n",
       "\n",
       "        access  accessing  accessories  ...  我會等待確認  是东亚地区统一的一党主权国家  澳门特别行政区  \\\n",
       "SMS          0          0            0  ...       0               0        0   \n",
       "CHATS        0          0            0  ...       1               1        1   \n",
       "EMAILS      11          1            2  ...       0               0        0   \n",
       "\n",
       "        照总面积计算  現在  裤脚  許多人需要同意  還沒有  重庆  鞋子全部打湿完了  \n",
       "SMS          0   0   1        0    0   0         1  \n",
       "CHATS        1   1   0        1    1   1         0  \n",
       "EMAILS       0   0   0        0    0   0         0  \n",
       "\n",
       "[3 rows x 2937 columns]"
      ]
     },
     "execution_count": 23,
     "metadata": {},
     "output_type": "execute_result"
    }
   ],
   "source": [
    "cv = CountVectorizer(stop_words='english')\n",
    "data_cv = cv.fit_transform(data_clean.Messages) # fit count vectorizor to our CLEAN messages data\n",
    "\n",
    "# Convert it to an array and label all the columns\n",
    "data_dtm = pd.DataFrame(data_cv.toarray(), columns=cv.get_feature_names())\n",
    "data_dtm.index = data_clean.index\n",
    "\n",
    "# Document-Term matrix\n",
    "data_dtm"
   ]
  },
  {
   "cell_type": "code",
   "execution_count": 24,
   "metadata": {},
   "outputs": [],
   "source": [
    "# Save pickles files \n",
    "with open('Pickles/term_matrix.pickle', 'wb') as output:\n",
    "    pickle.dump(data_dtm, output)"
   ]
  }
 ],
 "metadata": {
  "kernelspec": {
   "display_name": "Python 3",
   "language": "python",
   "name": "python3"
  },
  "language_info": {
   "codemirror_mode": {
    "name": "ipython",
    "version": 3
   },
   "file_extension": ".py",
   "mimetype": "text/x-python",
   "name": "python",
   "nbconvert_exporter": "python",
   "pygments_lexer": "ipython3",
   "version": "3.7.4"
  }
 },
 "nbformat": 4,
 "nbformat_minor": 2
}
